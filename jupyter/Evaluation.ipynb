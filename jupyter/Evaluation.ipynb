{
 "cells": [
  {
   "cell_type": "markdown",
   "metadata": {},
   "source": [
    "# evaluation.py\n",
    "This module computes the fitness function of a particular solution based off of hard constraints and soft constraints."
   ]
  },
  {
   "cell_type": "code",
   "execution_count": 1,
   "metadata": {},
   "outputs": [],
   "source": [
    "import config"
   ]
  },
  {
   "cell_type": "markdown",
   "metadata": {},
   "source": [
    "Main driver of module. Calculates a fitness value for a candidate solution based on number of conflicts where higher (max 100) is better. Returns an integer."
   ]
  },
  {
   "cell_type": "code",
   "execution_count": 2,
   "metadata": {},
   "outputs": [],
   "source": [
    "def calc_fitness(candidate_solution):\n",
    "    fitness = 100\n",
    "    hc = hard_constraints(candidate_solution)\n",
    "    sc = 0\n",
    "    return fitness - hc - sc"
   ]
  },
  {
   "cell_type": "markdown",
   "metadata": {},
   "source": [
    "Checks a candidate solution for hard constraints, returns 100 if any are violated. Hard constraints\n",
    "include room capacity conflicts, room schedule conflicts and prof conflicts. Currently every hard constraint that has been violated counts as 5 \"points\" - this should change in the future as a violation of a hard constrain will cause the solution to have a fitness function of 0."
   ]
  },
  {
   "cell_type": "code",
   "execution_count": 3,
   "metadata": {},
   "outputs": [],
   "source": [
    "def hard_constraints(candidate_solution):\n",
    "    hc = 0\n",
    "    if not check_rooms(candidate_solution):\n",
    "        print(\"room conflict\")\n",
    "        hc += 5\n",
    "    if not check_profs(candidate_solution):\n",
    "        print(\"prof conflict\")\n",
    "        hc += 5\n",
    "    if not check_capacity(candidate_solution):\n",
    "        print(\"capacity conflict\")\n",
    "        hc += 5\n",
    "    return hc"
   ]
  },
  {
   "cell_type": "markdown",
   "metadata": {},
   "source": [
    "Checks to make sure there are no duplicate room and section times (ie. no two classes are scheduled in the same room at the same time). Returns Boolean."
   ]
  },
  {
   "cell_type": "code",
   "execution_count": 4,
   "metadata": {},
   "outputs": [],
   "source": [
    "def check_rooms(candidate_solution):\n",
    "    rooms = []\n",
    "    for course, attrs in candidate_solution.items():\n",
    "        if course != \"Fitness\":\n",
    "            sections_rooms = [attrs[\"time\"], attrs[\"room\"]]\n",
    "            if sections_rooms in rooms:\n",
    "                return False\n",
    "            rooms.append(sections_rooms)\n",
    "    return True"
   ]
  },
  {
   "cell_type": "markdown",
   "metadata": {},
   "source": [
    "Checks to make sure there are no duplicate prof and section times (ie. no prof can be in two places at once). Returns Boolean."
   ]
  },
  {
   "cell_type": "code",
   "execution_count": 5,
   "metadata": {},
   "outputs": [],
   "source": [
    "def check_profs(candidate_solution):\n",
    "    profs = []\n",
    "    for course, attrs in candidate_solution.items():\n",
    "        if course != \"Fitness\":\n",
    "            sections_profs = [attrs[\"time\"], attrs[\"prof\"]]\n",
    "            if sections_profs in profs:\n",
    "                return False\n",
    "            profs.append(sections_profs)\n",
    "    return True"
   ]
  },
  {
   "cell_type": "markdown",
   "metadata": {},
   "source": [
    "Checks to make sure there a classes enrollment can fit in the selected room. Returns Boolean."
   ]
  },
  {
   "cell_type": "code",
   "execution_count": 6,
   "metadata": {},
   "outputs": [],
   "source": [
    "def check_capacity(candidate_solution):\n",
    "    room_capacities = list(config.config_rooms().values())\n",
    "    enrolments = config.config_courses()\n",
    "    for course, attrs in candidate_solution.items():\n",
    "        if course != \"Fitness\":\n",
    "            class_enrolment = enrolments[course][\"Enrolment\"] \n",
    "            room = attrs[\"room\"]\n",
    "            room_cap = room_capacities[room][\"Capacity\"]\n",
    "            if class_enrolment > room_cap:\n",
    "                return False\n",
    "    return True"
   ]
  },
  {
   "cell_type": "markdown",
   "metadata": {},
   "source": [
    "Demonstration purposes"
   ]
  },
  {
   "cell_type": "code",
   "execution_count": 7,
   "metadata": {},
   "outputs": [
    {
     "name": "stdout",
     "output_type": "stream",
     "text": [
      "capacity conflict\n",
      "Sample fitness is  95\n"
     ]
    }
   ],
   "source": [
    "sample_solution = {'CISC 101': {'time': 7, 'room': 82, 'prof': 'Hu'}, 'CISC 102': {'time': 8, 'room': 98, 'prof': 'Blostein'}, 'CISC 103': {'time': 42, 'room': 95, 'prof': 'Dove'}, 'CISC 104': {'time': 19, 'room': 52, 'prof': 'Dawes'}, 'CISC 105': {'time': 0, 'room': 10, 'prof': 'Powley'}, 'CISC 201': {'time': 27, 'room': 23, 'prof': 'Graham'}, 'CISC 202': {'time': 21, 'room': 7, 'prof': 'Hu'}, 'CISC 203': {'time': 22, 'room': 74, 'prof': 'Cordy'}, 'CISC 204': {'time': 42, 'room': 93, 'prof': 'Lamb'}, 'CISC 205': {'time': 34, 'room': 39, 'prof': 'Graham'}, 'CISC 301': {'time': 7, 'room': 18, 'prof': 'Dove'}, 'CISC 302': {'time': 44, 'room': 16, 'prof': 'Dove'}, 'CISC 303': {'time': 31, 'room': 72, 'prof': 'Powley'}, 'CISC 304': {'time': 37, 'room': 12, 'prof': 'Blostein'}, 'CISC 305': {'time': 22, 'room': 15, 'prof': 'Rappaport'}, 'CISC 401': {'time': 14, 'room': 6, 'prof': 'Dawes'}, 'CISC 402': {'time': 33, 'room': 64, 'prof': 'Lamb'}, 'CISC 403': {'time': 20, 'room': 83, 'prof': 'Hu'}, 'CISC 404': {'time': 8, 'room': 68, 'prof': 'Graham'}, 'CISC 405': {'time': 33, 'room': 82, 'prof': 'Blostein'}, 'MATH 101': {'time': 41, 'room': 63, 'prof': 'Day'}, 'MATH 102': {'time': 1, 'room': 15, 'prof': 'Ableson'}, 'MATH 103': {'time': 17, 'room': 66, 'prof': 'Ableson'}, 'MATH 104': {'time': 40, 'room': 71, 'prof': 'Takahara'}, 'MATH 105': {'time': 38, 'room': 94, 'prof': 'Mingo'}, 'MATH 201': {'time': 44, 'room': 29, 'prof': 'Alajaji'}, 'MATH 202': {'time': 37, 'room': 27, 'prof': 'Kyle'}, 'MATH 203': {'time': 23, 'room': 112, 'prof': 'Kyle'}, 'MATH 204': {'time': 44, 'room': 42, 'prof': 'Takahara'}, 'MATH 205': {'time': 17, 'room': 22, 'prof': 'Cellarosi'}, 'MATH 301': {'time': 33, 'room': 42, 'prof': 'Mingo'}, 'MATH 302': {'time': 25, 'room': 105, 'prof': 'Day'}, 'MATH 303': {'time': 3, 'room': 113, 'prof': 'Lewis'}, 'MATH 304': {'time': 3, 'room': 84, 'prof': 'Takahara'}, 'MATH 305': {'time': 35, 'room': 34, 'prof': 'Roth'}, 'MATH 401': {'time': 26, 'room': 42, 'prof': 'Alajaji'}, 'MATH 402': {'time': 23, 'room': 25, 'prof': 'Li'}, 'MATH 403': {'time': 18, 'room': 94, 'prof': 'Roth'}, 'MATH 404': {'time': 27, 'room': 46, 'prof': 'Kani'}, 'MATH 405': {'time': 41, 'room': 104, 'prof': 'Mingo'}, 'ENGL 101': {'time': 43, 'room': 17, 'prof': 'Brooke'}, 'ENGL 102': {'time': 0, 'room': 58, 'prof': 'Fanning'}, 'ENGL 103': {'time': 20, 'room': 109, 'prof': 'Fanning'}, 'ENGL 104': {'time': 27, 'room': 107, 'prof': 'McIntire'}, 'ENGL 105': {'time': 2, 'room': 31, 'prof': 'Moriah'}, 'ENGL 201': {'time': 6, 'room': 54, 'prof': 'Ritchie'}, 'ENGL 202': {'time': 15, 'room': 57, 'prof': 'Straker'}, 'ENGL 203': {'time': 36, 'room': 85, 'prof': 'Morrison'}, 'ENGL 204': {'time': 26, 'room': 63, 'prof': 'Pierce'}, 'ENGL 205': {'time': 11, 'room': 27, 'prof': 'Smart'}, 'ENGL 301': {'time': 2, 'room': 44, 'prof': 'Brooke'}, 'ENGL 302': {'time': 25, 'room': 93, 'prof': 'Peacocke'}, 'ENGL 303': {'time': 19, 'room': 90, 'prof': 'Moriah'}, 'ENGL 304': {'time': 36, 'room': 78, 'prof': 'Wallace'}, 'ENGL 305': {'time': 39, 'room': 65, 'prof': 'Fanning'}, 'ENGL 401': {'time': 8, 'room': 103, 'prof': 'May'}, 'ENGL 402': {'time': 13, 'room': 101, 'prof': 'May'}, 'ENGL 403': {'time': 30, 'room': 54, 'prof': 'Ritchie'}, 'ENGL 404': {'time': 38, 'room': 48, 'prof': 'Pierce'}, 'ENGL 405': {'time': 15, 'room': 14, 'prof': 'Fanning'}, 'PHYS 101': {'time': 40, 'room': 61, 'prof': 'Morelli'}, 'PHYS 102': {'time': 24, 'room': 21, 'prof': 'Hughes'}, 'PHYS 103': {'time': 17, 'room': 48, 'prof': 'Hughes'}, 'PHYS 104': {'time': 4, 'room': 97, 'prof': 'Hughes'}, 'PHYS 105': {'time': 21, 'room': 97, 'prof': 'Martin'}, 'PHYS 201': {'time': 17, 'room': 91, 'prof': 'Morelli'}, 'PHYS 202': {'time': 8, 'room': 40, 'prof': 'Topper'}, 'PHYS 203': {'time': 9, 'room': 65, 'prof': 'Knobel'}, 'PHYS 204': {'time': 16, 'room': 16, 'prof': 'Fraser'}, 'PHYS 205': {'time': 28, 'room': 89, 'prof': 'Dignam'}, 'PHYS 301': {'time': 5, 'room': 45, 'prof': 'Morelli'}, 'PHYS 302': {'time': 40, 'room': 46, 'prof': 'Courteau'}, 'PHYS 303': {'time': 17, 'room': 20, 'prof': 'Dignam'}, 'PHYS 304': {'time': 29, 'room': 54, 'prof': 'Topper'}, 'PHYS 305': {'time': 40, 'room': 111, 'prof': 'Chen'}, 'PHYS 401': {'time': 24, 'room': 45, 'prof': 'Morelli'}, 'PHYS 402': {'time': 5, 'room': 106, 'prof': 'Martin'}, 'PHYS 403': {'time': 42, 'room': 44, 'prof': 'Lake'}, 'PHYS 404': {'time': 11, 'room': 106, 'prof': 'Noble'}, 'PHYS 405': {'time': 3, 'room': 30, 'prof': 'Stotz'}, 'HIST 101': {'time': 12, 'room': 99, 'prof': 'Bateman'}, 'HIST 102': {'time': 26, 'room': 34, 'prof': 'Boika'}, 'HIST 103': {'time': 40, 'room': 33, 'prof': 'Caron'}, 'HIST 104': {'time': 2, 'room': 18, 'prof': 'Levesque'}, 'HIST 105': {'time': 10, 'room': 53, 'prof': 'Levesque'}, 'HIST 201': {'time': 39, 'room': 23, 'prof': 'Collins'}, 'HIST 202': {'time': 0, 'room': 39, 'prof': 'Dougherty'}, 'HIST 203': {'time': 37, 'room': 109, 'prof': 'Castillo'}, 'HIST 204': {'time': 9, 'room': 98, 'prof': 'Hardwick'}, 'HIST 205': {'time': 16, 'room': 91, 'prof': 'Bateman'}, 'HIST 301': {'time': 1, 'room': 48, 'prof': 'Healey'}, 'HIST 302': {'time': 39, 'room': 7, 'prof': 'Dougherty'}, 'HIST 303': {'time': 29, 'room': 88, 'prof': 'Meister'}, 'HIST 304': {'time': 27, 'room': 12, 'prof': 'Hammer'}, 'HIST 305': {'time': 27, 'room': 30, 'prof': 'Meister'}, 'HIST 401': {'time': 24, 'room': 41, 'prof': 'Olinski'}, 'HIST 402': {'time': 1, 'room': 57, 'prof': 'Turner'}, 'HIST 403': {'time': 1, 'room': 45, 'prof': 'Boika'}, 'HIST 404': {'time': 9, 'room': 2, 'prof': 'Turner'}, 'HIST 405': {'time': 4, 'room': 40, 'prof': 'Walton'}, 'Fitness': 95}\n",
    "sample_fitness = calc_fitness(sample_solution)\n",
    "print(\"Sample fitness is \", sample_fitness)"
   ]
  }
 ],
 "metadata": {
  "kernelspec": {
   "display_name": "Python 3",
   "language": "python",
   "name": "python3"
  },
  "language_info": {
   "codemirror_mode": {
    "name": "ipython",
    "version": 3
   },
   "file_extension": ".py",
   "mimetype": "text/x-python",
   "name": "python",
   "nbconvert_exporter": "python",
   "pygments_lexer": "ipython3",
   "version": "3.7.6"
  }
 },
 "nbformat": 4,
 "nbformat_minor": 4
}
