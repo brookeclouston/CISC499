{
 "cells": [
  {
   "cell_type": "markdown",
   "metadata": {},
   "source": [
    "# parent_selection.py\n",
    "Determines how to select parents based off of the selection type entered "
   ]
  },
  {
   "cell_type": "code",
   "execution_count": 1,
   "metadata": {},
   "outputs": [],
   "source": [
    "import constraints\n",
    "import numpy\n",
    "from numpy.random import seed\n",
    "from numpy.random import randint"
   ]
  },
  {
   "cell_type": "markdown",
   "metadata": {},
   "source": [
    "Driver of the module, selects a number of parents using fitness scores and determines what method of selection to use by what the config file says.  Reads global variable to determine selection type, then calls sub-function. Returns a list containing indexes of selected parents. "
   ]
  },
  {
   "cell_type": "code",
   "execution_count": 2,
   "metadata": {},
   "outputs": [],
   "source": [
    "def select_parents(num_parents, fitnesses):\n",
    "    parent_list = [0] * num_parents\n",
    "    if constraints.parent_selection == \"random\":\n",
    "        return select_parents_random(num_parents, fitnesses)\n",
    "    if constraints.parent_selection == \"roulette\":\n",
    "        return select_parents_roulette(num_parents, fitnesses)\n",
    "    if constraints.parent_selection == \"rank\":\n",
    "        return select_parents_rank(num_parents, fitnesses)\n",
    "    for parent in range(num_parents):\n",
    "        if constraints.parent_selection == \"tournament\":\n",
    "            parent_list[parent] = select_parents_tournament(constraints.tournament_y, fitnesses)\n",
    "    return parent_list"
   ]
  },
  {
   "cell_type": "markdown",
   "metadata": {},
   "source": [
    "Selects parents based off of a tournament style: A subset of size y_parents is created consisting of randomly chosen parents, and the index of the parent with the max fitness is returned."
   ]
  },
  {
   "cell_type": "code",
   "execution_count": 3,
   "metadata": {},
   "outputs": [],
   "source": [
    "def select_parents_tournament(y_parents, fitnesses):\n",
    "    parent_sublist = [0] * y_parents\n",
    "    index = 0\n",
    "    for i in range(y_parents):\n",
    "        parent_sublist[i] = randint(0,len(fitnesses))\n",
    "    max = 0\n",
    "    for j in parent_sublist:\n",
    "        if fitnesses[j] > max:\n",
    "            max = fitnesses[j]\n",
    "            index = j\n",
    "    return index"
   ]
  },
  {
   "cell_type": "markdown",
   "metadata": {},
   "source": [
    "Selects parents randomly based off of index positions. Does not allow for duplicate parent values. Returns a list of indexes of the randomly selected parents."
   ]
  },
  {
   "cell_type": "code",
   "execution_count": 4,
   "metadata": {},
   "outputs": [],
   "source": [
    "def select_parents_random(num_parents, fitnesses):\n",
    "    parents = []\n",
    "    for i in range(num_parents):\n",
    "        rand_parent = randint(0, len(fitnesses))\n",
    "        if rand_parent not in parents:\n",
    "            parents.append(rand_parent)\n",
    "            break \n",
    "    return parents"
   ]
  },
  {
   "cell_type": "markdown",
   "metadata": {},
   "source": [
    "Selects parents based on a \"roulette-wheel\" style: the fitness list is sorted then a random integer between 0 and sum(fitnesses) if selected (roulette_value). The fitness list is iterated over and each fitness is added to the partial sum counter, while counter < roulette_value. When this constraint is violated, the index of the parent that violated it is added to the parent sublist. NOTE: this method allows for duplicate parents"
   ]
  },
  {
   "cell_type": "code",
   "execution_count": 5,
   "metadata": {},
   "outputs": [],
   "source": [
    "def select_parents_roulette(num_parents, fitness):\n",
    "    parent_sublist = [] \n",
    "    sum_fitnesses = sum(fitness)\n",
    "    fitness_dict = {}\n",
    "    for position, value in enumerate(fitness):\n",
    "        fitness_dict[position] = value\n",
    "    sorted_fitness = {k: v for k, v in sorted(fitness_dict.items(), key=lambda item: item[1])}\n",
    "    while len(parent_sublist) < num_parents:\n",
    "        counter = 0\n",
    "        roulette_value = randint(0, sum_fitnesses)\n",
    "        for original_index, fitness in sorted_fitness.items():\n",
    "            counter += fitness\n",
    "            if counter < roulette_value:\n",
    "                continue\n",
    "            else:\n",
    "                parent_sublist.append(original_index)\n",
    "                break\n",
    "    return parent_sublist"
   ]
  },
  {
   "cell_type": "markdown",
   "metadata": {},
   "source": [
    "Selects parents by ranking them in order of fitness and selecting the top n parents where n = number of parents required."
   ]
  },
  {
   "cell_type": "code",
   "execution_count": 6,
   "metadata": {},
   "outputs": [],
   "source": [
    "def select_parents_rank(num_parents, fitness):\n",
    "    parent_sublist = [] \n",
    "    fitness_dict = {}\n",
    "    for position, value in enumerate(fitness):\n",
    "        fitness_dict[position] = value\n",
    "    sorted_fitness = {k: v for k, v in sorted(fitness_dict.items(), key=lambda item: item[1], reverse=True)}\n",
    "    sorted_fitness_list = list(sorted_fitness)\n",
    "    for pair in range(0, num_parents):\n",
    "        parent_sublist.append(sorted_fitness_list[pair])\n",
    "    return parent_sublist"
   ]
  }
 ],
 "metadata": {
  "kernelspec": {
   "display_name": "Python 3",
   "language": "python",
   "name": "python3"
  },
  "language_info": {
   "codemirror_mode": {
    "name": "ipython",
    "version": 3
   },
   "file_extension": ".py",
   "mimetype": "text/x-python",
   "name": "python",
   "nbconvert_exporter": "python",
   "pygments_lexer": "ipython3",
   "version": "3.7.6"
  }
 },
 "nbformat": 4,
 "nbformat_minor": 4
}
