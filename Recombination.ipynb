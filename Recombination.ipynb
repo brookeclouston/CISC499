{
 "cells": [
  {
   "cell_type": "markdown",
   "metadata": {},
   "source": [
    "# recombination.py\n",
    "This module contains two functions which are used to create and mutate children as part of a Genetic Algorithm (GA).\n",
    "The first function is called create_children, and it in turn calls the second function, mutate.  Generally an external module need only call create_children directly."
   ]
  },
  {
   "cell_type": "code",
   "execution_count": 1,
   "metadata": {},
   "outputs": [],
   "source": [
    "import numpy as np\n",
    "from numpy.random import seed\n",
    "from numpy.random import randint\n",
    "from sys import exit\n",
    "import constraints\n",
    "import copy"
   ]
  },
  {
   "cell_type": "markdown",
   "metadata": {},
   "source": [
    "Creates children timetable solutions from parent generation. Checks a global to see what type of crossover scheme should be used. Returns a list of children solutions, created from parents.  Each child is represented by a dictionary with keys that are course names, and values that are another dictionary.  Within the nested dictionary, keys are time, room, and prof.  For example, a single solution may look like this:\n",
    "{'CISC101': {'time': 1, 'room': 1, 'prof': 1}, 'CISC102': {'time': 0, 'room': 4, 'prof': 1}, 'CISC103': {'time': 3, 'room': 0, 'prof': 2}}\n",
    "        \n",
    "And a list of three children could therefore look like:\n",
    "\n",
    "        [{'CISC101': {'time': 1, 'room': 1, 'prof': 1}, 'CISC102': {'time': 0, 'room': 4, 'prof': 1}, 'CISC103': {'time': 3, 'room': 0, 'prof': 3}}, \n",
    "        {'CISC101': {'time': 0, 'room': 2, 'prof': 1}, 'CISC102': {'time': 0, 'room': 1, 'prof': 2}, 'CISC103': {'time': 0, 'room': 0, 'prof': 2}}, \n",
    "        {'CISC101': {'time': 2, 'room': 1, 'prof': 3}, 'CISC102': {'time': 0, 'room': 2, 'prof': 1}, 'CISC103': {'time': 3, 'room': 2, 'prof': 2}}]\n",
    "\n",
    "If there is a \"Fitness\" key within the parent, it is returned as well.  For example a single child could also look like this:\n",
    "{'CISC101': {'time': 1, 'room': 1, 'prof': 1}, 'CISC102': {'time': 0, 'room': 4, 'prof': 1}, 'CISC103': {'time': 3, 'room': 0, 'prof': 2}, 'Fitness': 95}     "
   ]
  },
  {
   "cell_type": "code",
   "execution_count": 2,
   "metadata": {},
   "outputs": [],
   "source": [
    "def create_children(num_rooms, num_times, parents, fitnesses, num_children, populationcopy):\n",
    "    children = []\n",
    "    for j in range(num_children):\n",
    "        if constraints.recombtype == \"clone\":\n",
    "            # clone simply selects a parent at random, and returns a copy of that parent as a child\n",
    "            parent_key = randint(0,len(parents))\n",
    "            newpop = populationcopy[:]\n",
    "            newchild = newpop[parents[parent_key]].copy()\n",
    "\n",
    "            # now mutate the child to introduce random variance in the subsequent population\n",
    "            mutechild = mutate(newchild, num_rooms, num_times, constraints.mutate_chance)     \n",
    "            children.append(mutechild)\n",
    "    return children"
   ]
  },
  {
   "cell_type": "markdown",
   "metadata": {},
   "source": [
    "Mutates a given timetable solutions, to introduce variance within a Genetic Algorithm. Applies a mutation scheme. Returns a single children solutions, created as a result of mutation calculations.  Each child is represented by a dictionary with keys that are course names, and values that are another dictionary.  Within the nested dictionary, keys are time, room, and prof. For example, a single solution may look like this:\n",
    "                 \n",
    "      {'CISC101': {'time': 1, 'room': 1, 'prof': 1}, 'CISC102': {'time': 0, 'room': 4, 'prof': 1}, 'CISC103': {'time': 3, 'room': 0, 'prof': 2}}\n",
    "\n",
    "If there is a \"Fitness\" key within the solution provided, it is not mutated and returned as well.  For example a returned solution could also look like this:\n",
    "\n",
    "    {'CISC101': {'time': 1, 'room': 1, 'prof': 1}, 'CISC102': {'time': 0, 'room': 4, 'prof': 1}, 'CISC103': {'time': 3, 'room': 0, 'prof': 2}, 'Fitness': 95}  "
   ]
  },
  {
   "cell_type": "code",
   "execution_count": 3,
   "metadata": {},
   "outputs": [],
   "source": [
    "def mutate(child_param, num_rooms, num_times, mutatechance):\n",
    "    child = copy.deepcopy(child_param)\n",
    "    for course in child:\n",
    "        # This makes sure we ignore the Fitness key within a solution, as it is calculated from other values\n",
    "        if course == 'Fitness':\n",
    "            exit\n",
    "        else:\n",
    "            # Apply room mutation\n",
    "            if np.random.rand() < mutatechance:\n",
    "                # 50% chance of mutation going up or down.  If max/min value is already reached, do nothing\n",
    "                if np.random.rand() < .5:\n",
    "                    if child[course]['room'] >= num_rooms-1:\n",
    "                        pass\n",
    "                    else:\n",
    "                        child[course]['room'] += 1\n",
    "                else:\n",
    "                    if child[course]['room'] < 1:\n",
    "                        pass\n",
    "                    else:\n",
    "                        child[course]['room'] -= 1\n",
    "            else:\n",
    "                pass\n",
    "            # Apply time mutation\n",
    "            if np.random.rand() < mutatechance:\n",
    "                # 50% chance of mutation going up or down.  If max/min value is already reached, do nothing\n",
    "                if np.random.rand() < .5:\n",
    "                    if child[course]['time'] >= num_times-1:\n",
    "                        pass\n",
    "                    else:\n",
    "                        child[course]['time'] += 1\n",
    "                else:\n",
    "                    if child[course]['time'] < 1:\n",
    "                        pass\n",
    "                    else:\n",
    "                        child[course]['time'] -= 1\n",
    "            else:\n",
    "                pass\n",
    "    return child\n"
   ]
  },
  {
   "cell_type": "code",
   "execution_count": null,
   "metadata": {},
   "outputs": [],
   "source": []
  }
 ],
 "metadata": {
  "kernelspec": {
   "display_name": "Python 3",
   "language": "python",
   "name": "python3"
  },
  "language_info": {
   "codemirror_mode": {
    "name": "ipython",
    "version": 3
   },
   "file_extension": ".py",
   "mimetype": "text/x-python",
   "name": "python",
   "nbconvert_exporter": "python",
   "pygments_lexer": "ipython3",
   "version": "3.7.6"
  }
 },
 "nbformat": 4,
 "nbformat_minor": 4
}
