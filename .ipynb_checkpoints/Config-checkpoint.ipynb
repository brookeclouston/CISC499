{
 "cells": [
  {
   "cell_type": "markdown",
   "metadata": {},
   "source": [
    "# config.py\n",
    "This module configures all data files into data structures that are able to be read by the rest of the algorithm "
   ]
  },
  {
   "cell_type": "code",
   "execution_count": 1,
   "metadata": {},
   "outputs": [],
   "source": [
    "import sys\n",
    "#!{sys.executable} -m pip install csv\n",
    "import csv"
   ]
  },
  {
   "cell_type": "markdown",
   "metadata": {},
   "source": [
    "Reads in courses and attributes (name, enrollment, etc.) from config file and returns list of dictionaries.  Each list item is a course, and each dictionary includes key/value pair attributes from config file."
   ]
  },
  {
   "cell_type": "code",
   "execution_count": 2,
   "metadata": {},
   "outputs": [],
   "source": [
    "def basic_config(course_file):\n",
    "    reader = csv.DictReader(open(course_file))\n",
    "    dict_list = []\n",
    "    for line in reader:\n",
    "        dict_list.append(dict(line))\n",
    "    return dict_list"
   ]
  },
  {
   "cell_type": "markdown",
   "metadata": {},
   "source": [
    "Reads in courses and attributes (name, enrollment, etc.) from config file and returns list of dictionaries.  Each list item is a course, and each dictionary includes key/value pair attributes from config file."
   ]
  },
  {
   "cell_type": "code",
   "execution_count": 3,
   "metadata": {},
   "outputs": [],
   "source": [
    "def config_courses(course_file=\"data/courses.csv\"):\n",
    "    courses = {}\n",
    "    with open(course_file, \"r\") as course:\n",
    "        csv_reader = csv.reader(course, delimiter=',')\n",
    "        for row in csv_reader:\n",
    "            if row != ['Course', 'Enrolment']:\n",
    "                courses[row[0]] = {\"Enrolment\": int(row[1])}\n",
    "    return courses"
   ]
  },
  {
   "cell_type": "markdown",
   "metadata": {},
   "source": [
    "Reads in rooms and attributes (name, room capacity, etc.) from config file and returns a list of dictionaries.\n",
    "Each list item is a room, and each dictionary includes key/value pair attributes from config file."
   ]
  },
  {
   "cell_type": "code",
   "execution_count": 4,
   "metadata": {},
   "outputs": [],
   "source": [
    "def config_rooms(room_file=\"data/rooms.csv\"):\n",
    "    rooms = {}\n",
    "    with open(room_file, \"r\") as course:\n",
    "        csv_reader = csv.reader(course, delimiter=',')\n",
    "        for row in csv_reader:\n",
    "            if row != [\"Room\", \"Capacity\"]:\n",
    "                rooms[row[0]] = {\"Capacity\": int(row[1])}\n",
    "    return rooms"
   ]
  },
  {
   "cell_type": "markdown",
   "metadata": {},
   "source": [
    "Reads in instructors and attributes (name, etc.) from config file and returns list of dictionaries. Each list item is a prof, and each dictionary includes key/value pair attributes from config file."
   ]
  },
  {
   "cell_type": "code",
   "execution_count": 5,
   "metadata": {},
   "outputs": [],
   "source": [
    "def config_profs(prof_file=\"data/profs.csv\"):\n",
    "    return basic_config(prof_file)"
   ]
  },
  {
   "cell_type": "markdown",
   "metadata": {},
   "source": [
    "Reads in time slots and attributes (name, etc.) from config file and returns a list of dictionaries. Each list item is a time slot, and each dictionary includes key/value pair attributes from config file."
   ]
  },
  {
   "cell_type": "code",
   "execution_count": 6,
   "metadata": {},
   "outputs": [],
   "source": [
    "def config_times(time_file=\"data/sections.csv\"):\n",
    "    return basic_config(time_file)"
   ]
  },
  {
   "cell_type": "markdown",
   "metadata": {},
   "source": [
    "Reads in instructor/course pairings config file and returns list of dictionaries. Each list item is a prof/course combination, represented as a dictionary with keys Prof and Course."
   ]
  },
  {
   "cell_type": "code",
   "execution_count": 7,
   "metadata": {},
   "outputs": [],
   "source": [
    "def config_profcourselinks(profcourse_file=\"data/profcourse.csv\"):\n",
    "    return basic_config(profcourse_file)"
   ]
  },
  {
   "cell_type": "markdown",
   "metadata": {},
   "source": [
    "**For deemonstration pruposes of courses data**"
   ]
  },
  {
   "cell_type": "code",
   "execution_count": 8,
   "metadata": {},
   "outputs": [
    {
     "name": "stdout",
     "output_type": "stream",
     "text": [
      "CISC 101 {'Enrolment': 330}\n",
      "CISC 102 {'Enrolment': 326}\n",
      "CISC 103 {'Enrolment': 358}\n",
      "CISC 104 {'Enrolment': 167}\n",
      "CISC 105 {'Enrolment': 377}\n",
      "CISC 201 {'Enrolment': 196}\n",
      "CISC 202 {'Enrolment': 218}\n",
      "CISC 203 {'Enrolment': 112}\n",
      "CISC 204 {'Enrolment': 166}\n",
      "CISC 205 {'Enrolment': 199}\n",
      "CISC 301 {'Enrolment': 116}\n",
      "CISC 302 {'Enrolment': 101}\n",
      "CISC 303 {'Enrolment': 131}\n",
      "CISC 304 {'Enrolment': 100}\n",
      "CISC 305 {'Enrolment': 118}\n",
      "CISC 401 {'Enrolment': 83}\n",
      "CISC 402 {'Enrolment': 45}\n",
      "CISC 403 {'Enrolment': 83}\n",
      "CISC 404 {'Enrolment': 67}\n",
      "CISC 405 {'Enrolment': 110}\n",
      "MATH 101 {'Enrolment': 389}\n",
      "MATH 102 {'Enrolment': 162}\n",
      "MATH 103 {'Enrolment': 390}\n",
      "MATH 104 {'Enrolment': 398}\n",
      "MATH 105 {'Enrolment': 400}\n",
      "MATH 201 {'Enrolment': 130}\n",
      "MATH 202 {'Enrolment': 111}\n",
      "MATH 203 {'Enrolment': 115}\n",
      "MATH 204 {'Enrolment': 119}\n",
      "MATH 205 {'Enrolment': 139}\n",
      "MATH 301 {'Enrolment': 143}\n",
      "MATH 302 {'Enrolment': 147}\n",
      "MATH 303 {'Enrolment': 112}\n",
      "MATH 304 {'Enrolment': 114}\n",
      "MATH 305 {'Enrolment': 52}\n",
      "MATH 401 {'Enrolment': 111}\n",
      "MATH 402 {'Enrolment': 97}\n",
      "MATH 403 {'Enrolment': 106}\n",
      "MATH 404 {'Enrolment': 65}\n",
      "MATH 405 {'Enrolment': 53}\n",
      "ENGL 101 {'Enrolment': 255}\n",
      "ENGL 102 {'Enrolment': 265}\n",
      "ENGL 103 {'Enrolment': 367}\n",
      "ENGL 104 {'Enrolment': 260}\n",
      "ENGL 105 {'Enrolment': 380}\n",
      "ENGL 201 {'Enrolment': 136}\n",
      "ENGL 202 {'Enrolment': 208}\n",
      "ENGL 203 {'Enrolment': 179}\n",
      "ENGL 204 {'Enrolment': 126}\n",
      "ENGL 205 {'Enrolment': 161}\n",
      "ENGL 301 {'Enrolment': 109}\n",
      "ENGL 302 {'Enrolment': 98}\n",
      "ENGL 303 {'Enrolment': 137}\n",
      "ENGL 304 {'Enrolment': 115}\n",
      "ENGL 305 {'Enrolment': 133}\n",
      "ENGL 401 {'Enrolment': 64}\n",
      "ENGL 402 {'Enrolment': 65}\n",
      "ENGL 403 {'Enrolment': 77}\n",
      "ENGL 404 {'Enrolment': 91}\n",
      "ENGL 405 {'Enrolment': 43}\n",
      "PHYS 101 {'Enrolment': 404}\n",
      "PHYS 102 {'Enrolment': 376}\n",
      "PHYS 103 {'Enrolment': 358}\n",
      "PHYS 104 {'Enrolment': 150}\n",
      "PHYS 105 {'Enrolment': 343}\n",
      "PHYS 201 {'Enrolment': 173}\n",
      "PHYS 202 {'Enrolment': 140}\n",
      "PHYS 203 {'Enrolment': 80}\n",
      "PHYS 204 {'Enrolment': 147}\n",
      "PHYS 205 {'Enrolment': 88}\n",
      "PHYS 301 {'Enrolment': 79}\n",
      "PHYS 302 {'Enrolment': 135}\n",
      "PHYS 303 {'Enrolment': 108}\n",
      "PHYS 304 {'Enrolment': 120}\n",
      "PHYS 305 {'Enrolment': 79}\n",
      "PHYS 401 {'Enrolment': 54}\n",
      "PHYS 402 {'Enrolment': 60}\n",
      "PHYS 403 {'Enrolment': 92}\n",
      "PHYS 404 {'Enrolment': 50}\n",
      "PHYS 405 {'Enrolment': 42}\n",
      "HIST 101 {'Enrolment': 226}\n",
      "HIST 102 {'Enrolment': 218}\n",
      "HIST 103 {'Enrolment': 189}\n",
      "HIST 104 {'Enrolment': 265}\n",
      "HIST 105 {'Enrolment': 403}\n",
      "HIST 201 {'Enrolment': 175}\n",
      "HIST 202 {'Enrolment': 82}\n",
      "HIST 203 {'Enrolment': 207}\n",
      "HIST 204 {'Enrolment': 81}\n",
      "HIST 205 {'Enrolment': 136}\n",
      "HIST 301 {'Enrolment': 61}\n",
      "HIST 302 {'Enrolment': 138}\n",
      "HIST 303 {'Enrolment': 57}\n",
      "HIST 304 {'Enrolment': 123}\n",
      "HIST 305 {'Enrolment': 54}\n",
      "HIST 401 {'Enrolment': 105}\n",
      "HIST 402 {'Enrolment': 72}\n",
      "HIST 403 {'Enrolment': 84}\n",
      "HIST 404 {'Enrolment': 76}\n",
      "HIST 405 {'Enrolment': 85}\n"
     ]
    }
   ],
   "source": [
    "courses = config_courses()\n",
    "for name, attributes in courses.items():\n",
    "    print(name, attributes)"
   ]
  }
 ],
 "metadata": {
  "kernelspec": {
   "display_name": "Python 3",
   "language": "python",
   "name": "python3"
  },
  "language_info": {
   "codemirror_mode": {
    "name": "ipython",
    "version": 3
   },
   "file_extension": ".py",
   "mimetype": "text/x-python",
   "name": "python",
   "nbconvert_exporter": "python",
   "pygments_lexer": "ipython3",
   "version": "3.7.6"
  }
 },
 "nbformat": 4,
 "nbformat_minor": 4
}
