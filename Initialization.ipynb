{
 "cells": [
  {
   "cell_type": "markdown",
   "metadata": {},
   "source": [
    "# initialization.py \n",
    "This module intializes the starting population using data read in from the data files. "
   ]
  },
  {
   "cell_type": "code",
   "execution_count": null,
   "metadata": {},
   "outputs": [],
   "source": [
    "#!{sys.executable} -m pip install numpy\n",
    "import numpy\n",
    "from numpy.random import seed\n",
    "from numpy.random import randint\n",
    "import config"
   ]
  },
  {
   "cell_type": "markdown",
   "metadata": {},
   "source": [
    "Creats inital population: times and rooms assigned randomly, profs read from configuration file and returns a list containing the inital population of candidate solutions in the form of dictionaries."
   ]
  },
  {
   "cell_type": "code",
   "execution_count": null,
   "metadata": {},
   "outputs": [],
   "source": [
    "def init(popsize):\n",
    "    courses = config.config_courses()\n",
    "    rooms = config.config_rooms()\n",
    "    profs = config.config_profs()\n",
    "    times = config.config_times()\n",
    "    profcourses = config.config_profcourselinks()\n",
    "    population = []\n",
    "    while popsize != 0:\n",
    "        candidate = {}\n",
    "        courses = config.config_courses() # reinitialize\n",
    "        time_room_slots = []\n",
    "        roomindex = 0\n",
    "        # Create list of tuples for each possible time/room slot option.  \n",
    "        # 3-tuple contains room index, time index, room capacity \n",
    "        # e.g. (0,1,75) means room[0], time[1], room capacity = 75.\n",
    "        for x, val in rooms.items():\n",
    "            for y in range(len(times)):\n",
    "                time_room_slots.append((roomindex,y,val['Capacity']))\n",
    "            roomindex += 1\n",
    "\n",
    "        # loop through the courses, assign largest first\n",
    "        for x in range(len(courses)):\n",
    "            # find the next course to schedule\n",
    "            this_course = next_tourn_schedule(courses)\n",
    "            timeslot = \"\"\n",
    "            room = \"\"\n",
    "            room, timeslot, del_slot = schedule_it(this_course, courses, time_room_slots)\n",
    "            time_room_slots.remove((room, timeslot, del_slot))\n",
    "            prof = \"\"\n",
    "            # Find instructor for each course\n",
    "            for item in profcourses:\n",
    "                if item['Course'] == this_course:\n",
    "                    prof = item['Prof']\n",
    "\n",
    "            candidate[this_course] = {\"room\": room, \"time\": timeslot, \"prof\": prof}\n",
    "            del courses[this_course]\n",
    "        candidate[\"Fitness\"] = 0\n",
    "        population.append(candidate)\n",
    "        popsize -= 1\n",
    "\n",
    "    return [population, courses, rooms, profs, times]"
   ]
  },
  {
   "cell_type": "markdown",
   "metadata": {},
   "source": [
    "Schedules a single course. Takes a course name (as an index from a list of courses), schedules it to the first available room that has sufficient capacity to meet the course enrolment. Returns a slot from a list of slot options"
   ]
  },
  {
   "cell_type": "code",
   "execution_count": null,
   "metadata": {},
   "outputs": [],
   "source": [
    "def schedule_it(course_tbs, course_list, slot_list):\n",
    "    for slot in slot_list:\n",
    "        if slot[2] > course_list[course_tbs]['Enrolment']:\n",
    "            return slot\n"
   ]
  },
  {
   "cell_type": "markdown",
   "metadata": {},
   "source": [
    "For demonstration purposes "
   ]
  },
  {
   "cell_type": "code",
   "execution_count": null,
   "metadata": {},
   "outputs": [],
   "source": [
    "solutions = (init(5))\n",
    "\n",
    "for i, solution in enumerate(solutions):\n",
    "    if i == 0:\n",
    "        for j, candidate in enumerate(solution):\n",
    "            print(\"candidate:   \", candidate)\n",
    "            print()"
   ]
  }
 ],
 "metadata": {
  "kernelspec": {
   "display_name": "Python 3",
   "language": "python",
   "name": "python3"
  },
  "language_info": {
   "codemirror_mode": {
    "name": "ipython",
    "version": 3
   },
   "file_extension": ".py",
   "mimetype": "text/x-python",
   "name": "python",
   "nbconvert_exporter": "python",
   "pygments_lexer": "ipython3",
   "version": "3.7.3"
  }
 },
 "nbformat": 4,
 "nbformat_minor": 4
}
