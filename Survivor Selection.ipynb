{
 "cells": [
  {
   "cell_type": "markdown",
   "metadata": {},
   "source": [
    "# survivor_selection.py\n",
    "This module identifies the lowest fitness scores within a population and return the corresponding index values.\n",
    "This module contains a simple function 'cull', which is used to find the lowest fitness scores as part of a Genetic Algorithm (GA).\n",
    "There are other more advanced methods of implementing selective pressure, which may be implemented later."
   ]
  },
  {
   "cell_type": "markdown",
   "metadata": {},
   "source": [
    "Selects which candidates to retiree based on their fitness. The first n candidates with the lowest fitnesses are selected as candidates to be removed, list of their indexes returned."
   ]
  },
  {
   "cell_type": "code",
   "execution_count": 1,
   "metadata": {},
   "outputs": [],
   "source": [
    "def cull(num_retirees, fitnesses):\n",
    "    retiree_list = [0] * num_retirees\n",
    "    for retiree in range(num_retirees):\n",
    "        min = 99999\n",
    "        for j, value in enumerate(fitnesses):\n",
    "            if value < min:\n",
    "                min = value\n",
    "                index = j\n",
    "        retiree_list[retiree] = index\n",
    "        fitnesses[index] = 99999\n",
    "    return retiree_list"
   ]
  },
  {
   "cell_type": "code",
   "execution_count": null,
   "metadata": {},
   "outputs": [],
   "source": []
  }
 ],
 "metadata": {
  "kernelspec": {
   "display_name": "Python 3",
   "language": "python",
   "name": "python3"
  },
  "language_info": {
   "codemirror_mode": {
    "name": "ipython",
    "version": 3
   },
   "file_extension": ".py",
   "mimetype": "text/x-python",
   "name": "python",
   "nbconvert_exporter": "python",
   "pygments_lexer": "ipython3",
   "version": "3.7.3"
  }
 },
 "nbformat": 4,
 "nbformat_minor": 4
}
